{
 "cells": [
  {
   "cell_type": "code",
   "execution_count": 12,
   "metadata": {},
   "outputs": [],
   "source": [
    "from google.cloud import bigquery\n",
    "from google.cloud import storage\n",
    "from google.oauth2 import service_account"
   ]
  },
  {
   "cell_type": "code",
   "execution_count": 13,
   "metadata": {
    "scrolled": true
   },
   "outputs": [],
   "source": [
    "credentials = service_account.Credentials.from_service_account_file(\n",
    "    './My Project 18021-e0a14e0a0015.json',\n",
    "    scopes=[\"https://www.googleapis.com/auth/cloud-platform\"],\n",
    ")\n",
    "\n",
    "client = bigquery.Client(\n",
    "    credentials=credentials,\n",
    "    project=credentials.project_id,\n",
    ")"
   ]
  },
  {
   "cell_type": "code",
   "execution_count": 14,
   "metadata": {},
   "outputs": [],
   "source": [
    "import numpy as np\n",
    "import pandas as pd\n",
    "import matplotlib.pyplot as plt\n",
    "import seaborn as sns\n",
    "%matplotlib inline\n",
    "\n",
    "from tqdm import tqdm_notebook"
   ]
  },
  {
   "cell_type": "code",
   "execution_count": 15,
   "metadata": {
    "scrolled": true
   },
   "outputs": [],
   "source": [
    "from sklearn.model_selection import train_test_split\n",
    "from sklearn.ensemble import RandomForestClassifier\n",
    "from sklearn.metrics import confusion_matrix, recall_score, precision_score,roc_curve, f1_score, roc_auc_score"
   ]
  },
  {
   "cell_type": "code",
   "execution_count": 16,
   "metadata": {},
   "outputs": [],
   "source": [
    "#balance queries demonstrating preseveration of value\n",
    "sql = '''\n",
    "WITH double_entry_book AS (\n",
    "   -- debits\n",
    "   SELECT\n",
    "    array_to_string(inputs.addresses, \",\") as address\n",
    "   , inputs.type\n",
    "   , -inputs.value as value\n",
    "   FROM `bigquery-public-data.crypto_bitcoin.inputs` as inputs\n",
    "   UNION ALL\n",
    "   -- credits\n",
    "   SELECT\n",
    "    array_to_string(outputs.addresses, \",\") as address\n",
    "   , outputs.type\n",
    "   , outputs.value as value\n",
    "   FROM `bigquery-public-data.crypto_bitcoin.outputs` as outputs\n",
    ")\n",
    "SELECT\n",
    "   address\n",
    ",   type   \n",
    ",   sum(value) as balance\n",
    "FROM double_entry_book\n",
    "GROUP BY 1,2\n",
    "ORDER BY balance DESC\n",
    "LIMIT 100000\n",
    "'''"
   ]
  },
  {
   "cell_type": "code",
   "execution_count": 17,
   "metadata": {},
   "outputs": [],
   "source": [
    "df1 = client.query(sql).to_dataframe()"
   ]
  },
  {
   "cell_type": "code",
   "execution_count": 18,
   "metadata": {},
   "outputs": [
    {
     "data": {
      "text/html": [
       "<div>\n",
       "<style scoped>\n",
       "    .dataframe tbody tr th:only-of-type {\n",
       "        vertical-align: middle;\n",
       "    }\n",
       "\n",
       "    .dataframe tbody tr th {\n",
       "        vertical-align: top;\n",
       "    }\n",
       "\n",
       "    .dataframe thead th {\n",
       "        text-align: right;\n",
       "    }\n",
       "</style>\n",
       "<table border=\"1\" class=\"dataframe\">\n",
       "  <thead>\n",
       "    <tr style=\"text-align: right;\">\n",
       "      <th></th>\n",
       "      <th>address</th>\n",
       "      <th>type</th>\n",
       "      <th>balance</th>\n",
       "    </tr>\n",
       "  </thead>\n",
       "  <tbody>\n",
       "    <tr>\n",
       "      <th>0</th>\n",
       "      <td>35hK24tcLEWcgNA4JxpvbkNkoAcDGqQPsP</td>\n",
       "      <td>scripthash</td>\n",
       "      <td>25550215632356</td>\n",
       "    </tr>\n",
       "    <tr>\n",
       "      <th>1</th>\n",
       "      <td>bc1qgdjqv0av3q56jvd82tkdjpy7gdp9ut8tlqmgrpmv24...</td>\n",
       "      <td>witness_v0_scripthash</td>\n",
       "      <td>11350099940517</td>\n",
       "    </tr>\n",
       "    <tr>\n",
       "      <th>2</th>\n",
       "      <td>3KZ526NxCVXbKwwP66RgM3pte6zW4gY1tD</td>\n",
       "      <td>scripthash</td>\n",
       "      <td>10185724740701</td>\n",
       "    </tr>\n",
       "    <tr>\n",
       "      <th>3</th>\n",
       "      <td>37XuVSEpWW4trkfmvWzegTHQt7BdktSKUs</td>\n",
       "      <td>scripthash</td>\n",
       "      <td>9450577228129</td>\n",
       "    </tr>\n",
       "    <tr>\n",
       "      <th>4</th>\n",
       "      <td>37do5d3pKeCuozjNCApGT153GJ8oNmKYbB</td>\n",
       "      <td>scripthash</td>\n",
       "      <td>8898956701196</td>\n",
       "    </tr>\n",
       "  </tbody>\n",
       "</table>\n",
       "</div>"
      ],
      "text/plain": [
       "                                             address                   type  \\\n",
       "0                 35hK24tcLEWcgNA4JxpvbkNkoAcDGqQPsP             scripthash   \n",
       "1  bc1qgdjqv0av3q56jvd82tkdjpy7gdp9ut8tlqmgrpmv24...  witness_v0_scripthash   \n",
       "2                 3KZ526NxCVXbKwwP66RgM3pte6zW4gY1tD             scripthash   \n",
       "3                 37XuVSEpWW4trkfmvWzegTHQt7BdktSKUs             scripthash   \n",
       "4                 37do5d3pKeCuozjNCApGT153GJ8oNmKYbB             scripthash   \n",
       "\n",
       "          balance  \n",
       "0  25550215632356  \n",
       "1  11350099940517  \n",
       "2  10185724740701  \n",
       "3   9450577228129  \n",
       "4   8898956701196  "
      ]
     },
     "execution_count": 18,
     "metadata": {},
     "output_type": "execute_result"
    }
   ],
   "source": [
    "df1.head(5)"
   ]
  },
  {
   "cell_type": "code",
   "execution_count": 19,
   "metadata": {
    "scrolled": true
   },
   "outputs": [
    {
     "data": {
      "text/plain": [
       "<matplotlib.axes._subplots.AxesSubplot at 0x104f024d0>"
      ]
     },
     "execution_count": 19,
     "metadata": {},
     "output_type": "execute_result"
    },
    {
     "data": {
      "image/png": "[encoded data removed]",
      "text/plain": [
       "<Figure size 432x288 with 1 Axes>"
      ]
     },
     "metadata": {
      "needs_background": "light"
     },
     "output_type": "display_data"
    }
   ],
   "source": [
    "df1['balance']=df1['balance'].astype('int')\n",
    "df1.groupby(['type'])['balance'].sum().sort_values(ascending=False).plot(kind='bar')"
   ]
  },
  {
   "cell_type": "code",
   "execution_count": 20,
   "metadata": {},
   "outputs": [
    {
     "data": {
      "text/html": [
       "<div>\n",
       "<style scoped>\n",
       "    .dataframe tbody tr th:only-of-type {\n",
       "        vertical-align: middle;\n",
       "    }\n",
       "\n",
       "    .dataframe tbody tr th {\n",
       "        vertical-align: top;\n",
       "    }\n",
       "\n",
       "    .dataframe thead th {\n",
       "        text-align: right;\n",
       "    }\n",
       "</style>\n",
       "<table border=\"1\" class=\"dataframe\">\n",
       "  <thead>\n",
       "    <tr style=\"text-align: right;\">\n",
       "      <th></th>\n",
       "      <th>balance</th>\n",
       "    </tr>\n",
       "  </thead>\n",
       "  <tbody>\n",
       "    <tr>\n",
       "      <th>count</th>\n",
       "      <td>1.000000e+05</td>\n",
       "    </tr>\n",
       "    <tr>\n",
       "      <th>mean</th>\n",
       "      <td>1.500189e+10</td>\n",
       "    </tr>\n",
       "    <tr>\n",
       "      <th>std</th>\n",
       "      <td>1.399884e+11</td>\n",
       "    </tr>\n",
       "    <tr>\n",
       "      <th>min</th>\n",
       "      <td>2.000000e+09</td>\n",
       "    </tr>\n",
       "    <tr>\n",
       "      <th>25%</th>\n",
       "      <td>3.404647e+09</td>\n",
       "    </tr>\n",
       "    <tr>\n",
       "      <th>50%</th>\n",
       "      <td>5.000000e+09</td>\n",
       "    </tr>\n",
       "    <tr>\n",
       "      <th>75%</th>\n",
       "      <td>5.699837e+09</td>\n",
       "    </tr>\n",
       "    <tr>\n",
       "      <th>max</th>\n",
       "      <td>2.555022e+13</td>\n",
       "    </tr>\n",
       "  </tbody>\n",
       "</table>\n",
       "</div>"
      ],
      "text/plain": [
       "            balance\n",
       "count  1.000000e+05\n",
       "mean   1.500189e+10\n",
       "std    1.399884e+11\n",
       "min    2.000000e+09\n",
       "25%    3.404647e+09\n",
       "50%    5.000000e+09\n",
       "75%    5.699837e+09\n",
       "max    2.555022e+13"
      ]
     },
     "execution_count": 20,
     "metadata": {},
     "output_type": "execute_result"
    }
   ],
   "source": [
    "df1.describe()"
   ]
  },
  {
   "cell_type": "code",
   "execution_count": 21,
   "metadata": {},
   "outputs": [],
   "source": [
    "# the tranction fees on the bitcoin network\n",
    "sql = '''\n",
    "SELECT \n",
    "  ROUND((input_value - output_value)/ size, 0) AS fees_per_byte,\n",
    "  COUNT(*) AS txn_cnt\n",
    "FROM\n",
    "  `bigquery-public-data.crypto_bitcoin.transactions`\n",
    "WHERE TRUE\n",
    "  AND block_timestamp >= '2017-05-01' \n",
    "  AND is_coinbase IS FALSE\n",
    "GROUP BY 1\n",
    "'''"
   ]
  },
  {
   "cell_type": "code",
   "execution_count": 22,
   "metadata": {},
   "outputs": [],
   "source": [
    "df2 = client.query(sql).to_dataframe()"
   ]
  },
  {
   "cell_type": "code",
   "execution_count": 23,
   "metadata": {
    "scrolled": true
   },
   "outputs": [
    {
     "data": {
      "text/html": [
       "<div>\n",
       "<style scoped>\n",
       "    .dataframe tbody tr th:only-of-type {\n",
       "        vertical-align: middle;\n",
       "    }\n",
       "\n",
       "    .dataframe tbody tr th {\n",
       "        vertical-align: top;\n",
       "    }\n",
       "\n",
       "    .dataframe thead th {\n",
       "        text-align: right;\n",
       "    }\n",
       "</style>\n",
       "<table border=\"1\" class=\"dataframe\">\n",
       "  <thead>\n",
       "    <tr style=\"text-align: right;\">\n",
       "      <th></th>\n",
       "      <th>fees_per_byte</th>\n",
       "      <th>txn_cnt</th>\n",
       "    </tr>\n",
       "  </thead>\n",
       "  <tbody>\n",
       "    <tr>\n",
       "      <th>4257</th>\n",
       "      <td>905650.0</td>\n",
       "      <td>1.0</td>\n",
       "    </tr>\n",
       "    <tr>\n",
       "      <th>7135</th>\n",
       "      <td>886913.0</td>\n",
       "      <td>1.0</td>\n",
       "    </tr>\n",
       "    <tr>\n",
       "      <th>2960</th>\n",
       "      <td>782299.0</td>\n",
       "      <td>1.0</td>\n",
       "    </tr>\n",
       "    <tr>\n",
       "      <th>4456</th>\n",
       "      <td>652648.0</td>\n",
       "      <td>1.0</td>\n",
       "    </tr>\n",
       "    <tr>\n",
       "      <th>7706</th>\n",
       "      <td>641259.0</td>\n",
       "      <td>1.0</td>\n",
       "    </tr>\n",
       "    <tr>\n",
       "      <th>...</th>\n",
       "      <td>...</td>\n",
       "      <td>...</td>\n",
       "    </tr>\n",
       "    <tr>\n",
       "      <th>12078</th>\n",
       "      <td>4.0</td>\n",
       "      <td>9287793.0</td>\n",
       "    </tr>\n",
       "    <tr>\n",
       "      <th>11134</th>\n",
       "      <td>3.0</td>\n",
       "      <td>21065838.0</td>\n",
       "    </tr>\n",
       "    <tr>\n",
       "      <th>6819</th>\n",
       "      <td>2.0</td>\n",
       "      <td>8100518.0</td>\n",
       "    </tr>\n",
       "    <tr>\n",
       "      <th>10684</th>\n",
       "      <td>1.0</td>\n",
       "      <td>19198339.0</td>\n",
       "    </tr>\n",
       "    <tr>\n",
       "      <th>12021</th>\n",
       "      <td>0.0</td>\n",
       "      <td>51983.0</td>\n",
       "    </tr>\n",
       "  </tbody>\n",
       "</table>\n",
       "<p>14734 rows × 2 columns</p>\n",
       "</div>"
      ],
      "text/plain": [
       "       fees_per_byte     txn_cnt\n",
       "4257        905650.0         1.0\n",
       "7135        886913.0         1.0\n",
       "2960        782299.0         1.0\n",
       "4456        652648.0         1.0\n",
       "7706        641259.0         1.0\n",
       "...              ...         ...\n",
       "12078            4.0   9287793.0\n",
       "11134            3.0  21065838.0\n",
       "6819             2.0   8100518.0\n",
       "10684            1.0  19198339.0\n",
       "12021            0.0     51983.0\n",
       "\n",
       "[14734 rows x 2 columns]"
      ]
     },
     "execution_count": 23,
     "metadata": {},
     "output_type": "execute_result"
    }
   ],
   "source": [
    "df2.fees_per_byte = df2.fees_per_byte.astype(float)\n",
    "df2.txn_cnt = df2.txn_cnt.astype(float)\n",
    "df2.sort_values(by='fees_per_byte',ascending=False)"
   ]
  },
  {
   "cell_type": "markdown",
   "metadata": {},
   "source": [
    "**From the table,outside the transaction platform coinbase, we can see high trsaction fees has less transaction \n",
    "frequency, and low transaction fee has high frequency. What dose this indicate?**\n",
    "+ A small portion of users use bitcoin to do large amount of money transfering only for 1 or serveral times, possible money laundrying. \n",
    "+ Most of the users are transfering coins at high frequent at a very small amount, possibly normal transactions."
   ]
  },
  {
   "cell_type": "code",
   "execution_count": 26,
   "metadata": {},
   "outputs": [],
   "source": [
    "# the trandaction times of unique address\n",
    "sql = '''\n",
    "SELECT\n",
    "    txn_count,\n",
    "    COUNT(txn_count) AS num_addresses\n",
    "FROM\n",
    "(\n",
    "    SELECT \n",
    "    ARRAY_TO_STRING(inputs.addresses, '') AS addresses,\n",
    "    COUNT(DISTINCT `hash`) AS txn_count\n",
    "    FROM `bigquery-public-data.crypto_bitcoin.transactions` AS txns\n",
    "    CROSS JOIN UNNEST(txns.inputs) AS inputs\n",
    "    GROUP BY addresses\n",
    ")\n",
    "GROUP BY txn_count\n",
    "ORDER BY txn_count ASC\n",
    "'''"
   ]
  },
  {
   "cell_type": "code",
   "execution_count": 27,
   "metadata": {},
   "outputs": [],
   "source": [
    "df3 = client.query(sql).to_dataframe()"
   ]
  },
  {
   "cell_type": "code",
   "execution_count": 34,
   "metadata": {
    "scrolled": true
   },
   "outputs": [
    {
     "data": {
      "text/html": [
       "<div>\n",
       "<style scoped>\n",
       "    .dataframe tbody tr th:only-of-type {\n",
       "        vertical-align: middle;\n",
       "    }\n",
       "\n",
       "    .dataframe tbody tr th {\n",
       "        vertical-align: top;\n",
       "    }\n",
       "\n",
       "    .dataframe thead th {\n",
       "        text-align: right;\n",
       "    }\n",
       "</style>\n",
       "<table border=\"1\" class=\"dataframe\">\n",
       "  <thead>\n",
       "    <tr style=\"text-align: right;\">\n",
       "      <th></th>\n",
       "      <th>txn_count</th>\n",
       "      <th>num_addresses</th>\n",
       "    </tr>\n",
       "  </thead>\n",
       "  <tbody>\n",
       "    <tr>\n",
       "      <th>1404</th>\n",
       "      <td>1405</td>\n",
       "      <td>7</td>\n",
       "    </tr>\n",
       "    <tr>\n",
       "      <th>3270</th>\n",
       "      <td>3492</td>\n",
       "      <td>1</td>\n",
       "    </tr>\n",
       "    <tr>\n",
       "      <th>4280</th>\n",
       "      <td>5422</td>\n",
       "      <td>1</td>\n",
       "    </tr>\n",
       "    <tr>\n",
       "      <th>5560</th>\n",
       "      <td>12611</td>\n",
       "      <td>1</td>\n",
       "    </tr>\n",
       "    <tr>\n",
       "      <th>3435</th>\n",
       "      <td>3739</td>\n",
       "      <td>2</td>\n",
       "    </tr>\n",
       "  </tbody>\n",
       "</table>\n",
       "</div>"
      ],
      "text/plain": [
       "      txn_count  num_addresses\n",
       "1404       1405              7\n",
       "3270       3492              1\n",
       "4280       5422              1\n",
       "5560      12611              1\n",
       "3435       3739              2"
      ]
     },
     "execution_count": 34,
     "metadata": {},
     "output_type": "execute_result"
    }
   ],
   "source": [
    "df3.sample(5)"
   ]
  },
  {
   "cell_type": "code",
   "execution_count": 44,
   "metadata": {},
   "outputs": [
    {
     "data": {
      "text/plain": [
       "Text(0, 0.5, 'frquency')"
      ]
     },
     "execution_count": 44,
     "metadata": {},
     "output_type": "execute_result"
    },
    {
     "data": {
      "image/png": "[encoded data removed]",
      "text/plain": [
       "<Figure size 720x432 with 1 Axes>"
      ]
     },
     "metadata": {
      "needs_background": "light"
     },
     "output_type": "display_data"
    }
   ],
   "source": [
    "plt.figure(figsize=(10,6))\n",
    "plt.plot(df3['txn_count'],df3['num_addresses'],)\n",
    "plt.ylim([0,100000])\n",
    "plt.xlim([0,5000])\n",
    "plt.xlabel(\"Number of unique partners \")\n",
    "plt.ylabel(\"frquency\")"
   ]
  },
  {
   "cell_type": "code",
   "execution_count": 61,
   "metadata": {},
   "outputs": [],
   "source": [
    "#see the trsanction connected with my ETH address\n",
    "sql = '''\n",
    "--second degree\n",
    "SELECT\n",
    "\n",
    "    tx.from_address, tx.to_address, SUM(tx.value)/POWER(10,18) AS value\n",
    "  FROM `bigquery-public-data.crypto_ethereum.transactions` AS tx\n",
    "  WHERE from_address IN (\n",
    "    SELECT\n",
    "      to_address\n",
    "    FROM `bigquery-public-data.crypto_ethereum.transactions` AS tx\n",
    "    WHERE\n",
    "      from_address = '0x311ebadb10d50130833e0677602a1d9cea322d33'\n",
    "  )\n",
    "  GROUP BY from_address, to_address\n",
    "--  HAVING COUNT(tx.to_address) > 1\n",
    "\n",
    "UNION ALL\n",
    "\n",
    "  --first degree\n",
    "  SELECT\n",
    "    from_address, to_address, SUM(tx.value)/POWER(10,18)\n",
    "  FROM `bigquery-public-data.crypto_ethereum.transactions` AS tx\n",
    "  WHERE\n",
    "    from_address = '0x311ebadb10d50130833e0677602a1d9cea322d33'\n",
    "  GROUP BY from_address, to_address\n",
    "'''"
   ]
  },
  {
   "cell_type": "code",
   "execution_count": 62,
   "metadata": {},
   "outputs": [],
   "source": [
    "df4 = client.query(sql).to_dataframe()"
   ]
  },
  {
   "cell_type": "code",
   "execution_count": 67,
   "metadata": {},
   "outputs": [
    {
     "data": {
      "text/html": [
       "<div>\n",
       "<style scoped>\n",
       "    .dataframe tbody tr th:only-of-type {\n",
       "        vertical-align: middle;\n",
       "    }\n",
       "\n",
       "    .dataframe tbody tr th {\n",
       "        vertical-align: top;\n",
       "    }\n",
       "\n",
       "    .dataframe thead th {\n",
       "        text-align: right;\n",
       "    }\n",
       "</style>\n",
       "<table border=\"1\" class=\"dataframe\">\n",
       "  <thead>\n",
       "    <tr style=\"text-align: right;\">\n",
       "      <th></th>\n",
       "      <th>from_address</th>\n",
       "      <th>to_address</th>\n",
       "      <th>value</th>\n",
       "    </tr>\n",
       "  </thead>\n",
       "  <tbody>\n",
       "    <tr>\n",
       "      <th>0</th>\n",
       "      <td>0xf5613e4da78cee6a1bffdf9c235d56bbf6d01d8d</td>\n",
       "      <td>0xdcbc2ab350e3c51d992f3fd80ff804fb9e29ae12</td>\n",
       "      <td>10.246945</td>\n",
       "    </tr>\n",
       "    <tr>\n",
       "      <th>1</th>\n",
       "      <td>0xf5613e4da78cee6a1bffdf9c235d56bbf6d01d8d</td>\n",
       "      <td>0xbe65f45173fb1c3308b800ed7eab96643e7b2c49</td>\n",
       "      <td>1879.670000</td>\n",
       "    </tr>\n",
       "    <tr>\n",
       "      <th>2</th>\n",
       "      <td>0xf5613e4da78cee6a1bffdf9c235d56bbf6d01d8d</td>\n",
       "      <td>0x36e7ddfd381bb461ea98c3a6641fad67c7f314af</td>\n",
       "      <td>1.890000</td>\n",
       "    </tr>\n",
       "    <tr>\n",
       "      <th>3</th>\n",
       "      <td>0xf5613e4da78cee6a1bffdf9c235d56bbf6d01d8d</td>\n",
       "      <td>0xe71ff76bbc0621cf1caecd403b109a3d097fa0e3</td>\n",
       "      <td>0.028809</td>\n",
       "    </tr>\n",
       "    <tr>\n",
       "      <th>4</th>\n",
       "      <td>0xf5613e4da78cee6a1bffdf9c235d56bbf6d01d8d</td>\n",
       "      <td>0x6b99d744a689d23796c0427d7800a121c755b435</td>\n",
       "      <td>13.660000</td>\n",
       "    </tr>\n",
       "  </tbody>\n",
       "</table>\n",
       "</div>"
      ],
      "text/plain": [
       "                                 from_address  \\\n",
       "0  0xf5613e4da78cee6a1bffdf9c235d56bbf6d01d8d   \n",
       "1  0xf5613e4da78cee6a1bffdf9c235d56bbf6d01d8d   \n",
       "2  0xf5613e4da78cee6a1bffdf9c235d56bbf6d01d8d   \n",
       "3  0xf5613e4da78cee6a1bffdf9c235d56bbf6d01d8d   \n",
       "4  0xf5613e4da78cee6a1bffdf9c235d56bbf6d01d8d   \n",
       "\n",
       "                                   to_address        value  \n",
       "0  0xdcbc2ab350e3c51d992f3fd80ff804fb9e29ae12    10.246945  \n",
       "1  0xbe65f45173fb1c3308b800ed7eab96643e7b2c49  1879.670000  \n",
       "2  0x36e7ddfd381bb461ea98c3a6641fad67c7f314af     1.890000  \n",
       "3  0xe71ff76bbc0621cf1caecd403b109a3d097fa0e3     0.028809  \n",
       "4  0x6b99d744a689d23796c0427d7800a121c755b435    13.660000  "
      ]
     },
     "execution_count": 67,
     "metadata": {},
     "output_type": "execute_result"
    }
   ],
   "source": [
    "df4.head(5)"
   ]
  },
  {
   "cell_type": "code",
   "execution_count": null,
   "metadata": {},
   "outputs": [],
   "source": []
  }
 ],
 "metadata": {
  "kernelspec": {
   "display_name": "Python 3",
   "language": "python",
   "name": "python3"
  },
  "language_info": {
   "codemirror_mode": {
    "name": "ipython",
    "version": 3
   },
   "file_extension": ".py",
   "mimetype": "text/x-python",
   "name": "python",
   "nbconvert_exporter": "python",
   "pygments_lexer": "ipython3",
   "version": "3.7.6"
  }
 },
 "nbformat": 4,
 "nbformat_minor": 2
}
